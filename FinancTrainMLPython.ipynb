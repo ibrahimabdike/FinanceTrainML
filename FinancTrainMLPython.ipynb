{
  "nbformat": 4,
  "nbformat_minor": 0,
  "metadata": {
    "colab": {
      "name": "FinancTrainMLPython.ipynb",
      "provenance": [],
      "authorship_tag": "ABX9TyPR+M1z19+ZWU0BHxdHMfbR",
      "include_colab_link": true
    },
    "kernelspec": {
      "name": "python3",
      "display_name": "Python 3"
    }
  },
  "cells": [
    {
      "cell_type": "markdown",
      "metadata": {
        "id": "view-in-github",
        "colab_type": "text"
      },
      "source": [
        "<a href=\"https://colab.research.google.com/github/ibrahimabdike/FinanceTrainML/blob/master/FinancTrainMLPython.ipynb\" target=\"_parent\"><img src=\"https://colab.research.google.com/assets/colab-badge.svg\" alt=\"Open In Colab\"/></a>"
      ]
    },
    {
      "cell_type": "code",
      "metadata": {
        "id": "4MzvBxNAGG6Y",
        "colab_type": "code",
        "outputId": "26111837-9c89-4aaf-ca79-494f95bb754b",
        "colab": {
          "base_uri": "https://localhost:8080/",
          "height": 72
        }
      },
      "source": [
        "import pandas as pd\n",
        "import matplotlib.pyplot as plt\n",
        "import numpy as np\n",
        "import seaborn as sns\n",
        "from sklearn.ensemble import RandomForestRegressor"
      ],
      "execution_count": 0,
      "outputs": [
        {
          "output_type": "stream",
          "text": [
            "/usr/local/lib/python3.6/dist-packages/statsmodels/tools/_testing.py:19: FutureWarning: pandas.util.testing is deprecated. Use the functions in the public API at pandas.testing instead.\n",
            "  import pandas.util.testing as tm\n"
          ],
          "name": "stderr"
        }
      ]
    },
    {
      "cell_type": "code",
      "metadata": {
        "id": "KQqAuBwBGWyz",
        "colab_type": "code",
        "outputId": "8670b256-52f6-42ac-9078-735dc2b6f27d",
        "colab": {
          "base_uri": "https://localhost:8080/",
          "height": 197
        }
      },
      "source": [
        "amz = pd.read_csv(\"/content/AMZ.csv\")\n",
        "amz.head()"
      ],
      "execution_count": 0,
      "outputs": [
        {
          "output_type": "execute_result",
          "data": {
            "text/html": [
              "<div>\n",
              "<style scoped>\n",
              "    .dataframe tbody tr th:only-of-type {\n",
              "        vertical-align: middle;\n",
              "    }\n",
              "\n",
              "    .dataframe tbody tr th {\n",
              "        vertical-align: top;\n",
              "    }\n",
              "\n",
              "    .dataframe thead th {\n",
              "        text-align: right;\n",
              "    }\n",
              "</style>\n",
              "<table border=\"1\" class=\"dataframe\">\n",
              "  <thead>\n",
              "    <tr style=\"text-align: right;\">\n",
              "      <th></th>\n",
              "      <th>Date</th>\n",
              "      <th>AdjClose</th>\n",
              "      <th>Close</th>\n",
              "      <th>High</th>\n",
              "      <th>Low</th>\n",
              "      <th>Open</th>\n",
              "      <th>Volume</th>\n",
              "    </tr>\n",
              "  </thead>\n",
              "  <tbody>\n",
              "    <tr>\n",
              "      <th>0</th>\n",
              "      <td>2019-09-20</td>\n",
              "      <td>1794.16</td>\n",
              "      <td>1794.16</td>\n",
              "      <td>1830.6300</td>\n",
              "      <td>1781.0</td>\n",
              "      <td>1821.71</td>\n",
              "      <td>4324478</td>\n",
              "    </tr>\n",
              "    <tr>\n",
              "      <th>1</th>\n",
              "      <td>2019-09-19</td>\n",
              "      <td>1821.50</td>\n",
              "      <td>1821.50</td>\n",
              "      <td>1832.5699</td>\n",
              "      <td>1817.9</td>\n",
              "      <td>1821.02</td>\n",
              "      <td>2031500</td>\n",
              "    </tr>\n",
              "    <tr>\n",
              "      <th>2</th>\n",
              "      <td>2019-09-18</td>\n",
              "      <td>1817.46</td>\n",
              "      <td>1817.46</td>\n",
              "      <td>1822.0601</td>\n",
              "      <td>1795.5</td>\n",
              "      <td>1817.04</td>\n",
              "      <td>2505600</td>\n",
              "    </tr>\n",
              "    <tr>\n",
              "      <th>3</th>\n",
              "      <td>2019-09-17</td>\n",
              "      <td>1822.55</td>\n",
              "      <td>1822.55</td>\n",
              "      <td>1823.9900</td>\n",
              "      <td>1804.1</td>\n",
              "      <td>1807.08</td>\n",
              "      <td>1982400</td>\n",
              "    </tr>\n",
              "    <tr>\n",
              "      <th>4</th>\n",
              "      <td>2019-09-16</td>\n",
              "      <td>1807.84</td>\n",
              "      <td>1807.84</td>\n",
              "      <td>1825.6899</td>\n",
              "      <td>1800.2</td>\n",
              "      <td>1824.02</td>\n",
              "      <td>3675500</td>\n",
              "    </tr>\n",
              "  </tbody>\n",
              "</table>\n",
              "</div>"
            ],
            "text/plain": [
              "         Date  AdjClose    Close       High     Low     Open   Volume\n",
              "0  2019-09-20   1794.16  1794.16  1830.6300  1781.0  1821.71  4324478\n",
              "1  2019-09-19   1821.50  1821.50  1832.5699  1817.9  1821.02  2031500\n",
              "2  2019-09-18   1817.46  1817.46  1822.0601  1795.5  1817.04  2505600\n",
              "3  2019-09-17   1822.55  1822.55  1823.9900  1804.1  1807.08  1982400\n",
              "4  2019-09-16   1807.84  1807.84  1825.6899  1800.2  1824.02  3675500"
            ]
          },
          "metadata": {
            "tags": []
          },
          "execution_count": 2
        }
      ]
    },
    {
      "cell_type": "code",
      "metadata": {
        "id": "LnGeaLurIGND",
        "colab_type": "code",
        "outputId": "3f489838-bdb0-4794-c6d6-c50203de1988",
        "colab": {
          "base_uri": "https://localhost:8080/",
          "height": 197
        }
      },
      "source": [
        "amz.tail()"
      ],
      "execution_count": 0,
      "outputs": [
        {
          "output_type": "execute_result",
          "data": {
            "text/html": [
              "<div>\n",
              "<style scoped>\n",
              "    .dataframe tbody tr th:only-of-type {\n",
              "        vertical-align: middle;\n",
              "    }\n",
              "\n",
              "    .dataframe tbody tr th {\n",
              "        vertical-align: top;\n",
              "    }\n",
              "\n",
              "    .dataframe thead th {\n",
              "        text-align: right;\n",
              "    }\n",
              "</style>\n",
              "<table border=\"1\" class=\"dataframe\">\n",
              "  <thead>\n",
              "    <tr style=\"text-align: right;\">\n",
              "      <th></th>\n",
              "      <th>Date</th>\n",
              "      <th>AdjClose</th>\n",
              "      <th>Close</th>\n",
              "      <th>High</th>\n",
              "      <th>Low</th>\n",
              "      <th>Open</th>\n",
              "      <th>Volume</th>\n",
              "    </tr>\n",
              "  </thead>\n",
              "  <tbody>\n",
              "    <tr>\n",
              "      <th>5028</th>\n",
              "      <td>1999-09-27</td>\n",
              "      <td>62.5625</td>\n",
              "      <td>62.563</td>\n",
              "      <td>67.875</td>\n",
              "      <td>61.8750</td>\n",
              "      <td>66.188</td>\n",
              "      <td>14383100</td>\n",
              "    </tr>\n",
              "    <tr>\n",
              "      <th>5029</th>\n",
              "      <td>1999-09-24</td>\n",
              "      <td>65.0000</td>\n",
              "      <td>65.000</td>\n",
              "      <td>66.000</td>\n",
              "      <td>61.5049</td>\n",
              "      <td>62.000</td>\n",
              "      <td>10972500</td>\n",
              "    </tr>\n",
              "    <tr>\n",
              "      <th>5030</th>\n",
              "      <td>1999-09-23</td>\n",
              "      <td>62.2500</td>\n",
              "      <td>62.250</td>\n",
              "      <td>68.750</td>\n",
              "      <td>61.2340</td>\n",
              "      <td>67.000</td>\n",
              "      <td>14373600</td>\n",
              "    </tr>\n",
              "    <tr>\n",
              "      <th>5031</th>\n",
              "      <td>1999-09-22</td>\n",
              "      <td>66.0000</td>\n",
              "      <td>66.000</td>\n",
              "      <td>66.500</td>\n",
              "      <td>60.6859</td>\n",
              "      <td>62.875</td>\n",
              "      <td>10037500</td>\n",
              "    </tr>\n",
              "    <tr>\n",
              "      <th>5032</th>\n",
              "      <td>1999-09-21</td>\n",
              "      <td>62.2500</td>\n",
              "      <td>62.250</td>\n",
              "      <td>63.938</td>\n",
              "      <td>61.0000</td>\n",
              "      <td>61.625</td>\n",
              "      <td>8232500</td>\n",
              "    </tr>\n",
              "  </tbody>\n",
              "</table>\n",
              "</div>"
            ],
            "text/plain": [
              "            Date  AdjClose   Close    High      Low    Open    Volume\n",
              "5028  1999-09-27   62.5625  62.563  67.875  61.8750  66.188  14383100\n",
              "5029  1999-09-24   65.0000  65.000  66.000  61.5049  62.000  10972500\n",
              "5030  1999-09-23   62.2500  62.250  68.750  61.2340  67.000  14373600\n",
              "5031  1999-09-22   66.0000  66.000  66.500  60.6859  62.875  10037500\n",
              "5032  1999-09-21   62.2500  62.250  63.938  61.0000  61.625   8232500"
            ]
          },
          "metadata": {
            "tags": []
          },
          "execution_count": 7
        }
      ]
    },
    {
      "cell_type": "code",
      "metadata": {
        "id": "2n7y1OOYGsR5",
        "colab_type": "code",
        "colab": {}
      },
      "source": [
        "def get_technical_indicators(dataset):\n",
        "    '''\n",
        "    params:\n",
        "        dataset: OHLCV data for AMZ ticker from 1999-09-01 to 2019-09-20\n",
        "    returns    \n",
        "        features dataframe with the calculations of all technical Indicators such as \n",
        "        MACD, 20 period’s standard deviation, ROC, CCI, EMA\n",
        "    '''\n",
        "    # Sort values by dates. Old dates at top \n",
        "    dataset.sort_index(inplace=True)\n",
        "    # Create the features  dataframe to store only the features\n",
        "    features = pd.DataFrame(index=dataset.index)\n",
        "    \n",
        "    # Create 7 and 21 days Moving Average\n",
        "    features['ma7'] = dataset['AdjClose'].rolling(window=7).mean()\n",
        "    features['ma21'] = dataset['AdjClose'].rolling(window=21).mean()\n",
        "    \n",
        "    # Create MACD\n",
        "    features['26ema'] = dataset['AdjClose'].ewm(span=26).mean()\n",
        "    features['12ema'] = dataset['AdjClose'].ewm(span=12).mean()\n",
        "    features['MACD'] = (features['12ema']-features['26ema'])\n",
        " \n",
        "    # Create Bollinger Bands\n",
        "    features['20sd'] = dataset['AdjClose'].rolling(20).std()\n",
        "    features['upper_band'] = features['ma21'] + (features['20sd']*2)\n",
        "    features['lower_band'] = features['ma21'] - (features['20sd']*2)\n",
        "    \n",
        "    # Create Exponential moving average\n",
        "    features['ema'] = dataset['AdjClose'].ewm(span=20).mean()\n",
        "    \n",
        "    # ROC Rate of Change\n",
        "    N = dataset['AdjClose'].diff(10)\n",
        "    D = dataset['AdjClose'].shift(10)\n",
        "    features['ROC'] = N/D\n",
        "    \n",
        "    # CCI  Commodity Channel Index\n",
        "    TP = (dataset['High'] + dataset['Low'] + dataset['AdjClose']) / 3 \n",
        "    features['CCI']  = (TP - TP.rolling(20).mean()) / (0.015 *  TP.rolling(20).std() )\n",
        "    # Create Average True Range \n",
        "    features['TR'] = dataset['High'] - dataset['Low']\n",
        "    features['ATR'] = features['TR'].ewm(span = 10).mean()\n",
        " \n",
        "    return features\n",
        " \n",
        " \n",
        "# Store the output of get_technical_indicators() function in the features object\n",
        " \n",
        "features = get_technical_indicators(amz)"
      ],
      "execution_count": 0,
      "outputs": []
    },
    {
      "cell_type": "code",
      "metadata": {
        "id": "Eiwnh0UVHN9a",
        "colab_type": "code",
        "outputId": "49f89111-ce8e-4547-ef0f-fcffb221485d",
        "colab": {
          "base_uri": "https://localhost:8080/",
          "height": 567
        }
      },
      "source": [
        "# Retrieve the features that will be used  in the vars_ dataframe\n",
        "vars_ = features[['MACD','20sd','TR','ma21','ROC','CCI']]\n",
        " \n",
        "# The correlation() function would make scatterplots between each of the features and  the target variable AdjClose\n",
        " \n",
        "jet= plt.get_cmap('jet')\n",
        "colors = iter(jet(np.linspace(0,1,10)))\n",
        " \n",
        "def correlation(df,features,variables, n_rows, n_cols):\n",
        "    fig = plt.figure(figsize=(8,6))\n",
        "    #fig = plt.figure(figsize=(14,9))\n",
        "    for i, var in enumerate(variables):\n",
        "        ax = fig.add_subplot(n_rows,n_cols,i+1)\n",
        "        asset = features.loc[:,var]\n",
        "        ax.scatter(df[\"AdjClose\"], asset, c = next(colors))\n",
        "        ax.set_xlabel(\"AdjClose\")\n",
        "        ax.set_ylabel(\"  {}\".format(var))\n",
        "        ax.set_title(var +\" vs AdjClose\")\n",
        "    fig.tight_layout() \n",
        "    plt.show()\n",
        "        \n",
        "columns = vars_.columns    \n",
        "correlation(amz,vars_,columns,2,3)"
      ],
      "execution_count": 0,
      "outputs": [
        {
          "output_type": "stream",
          "text": [
            "'c' argument looks like a single numeric RGB or RGBA sequence, which should be avoided as value-mapping will have precedence in case its length matches with 'x' & 'y'.  Please use a 2-D array with a single row if you really want to specify the same RGB or RGBA value for all points.\n",
            "'c' argument looks like a single numeric RGB or RGBA sequence, which should be avoided as value-mapping will have precedence in case its length matches with 'x' & 'y'.  Please use a 2-D array with a single row if you really want to specify the same RGB or RGBA value for all points.\n",
            "'c' argument looks like a single numeric RGB or RGBA sequence, which should be avoided as value-mapping will have precedence in case its length matches with 'x' & 'y'.  Please use a 2-D array with a single row if you really want to specify the same RGB or RGBA value for all points.\n",
            "'c' argument looks like a single numeric RGB or RGBA sequence, which should be avoided as value-mapping will have precedence in case its length matches with 'x' & 'y'.  Please use a 2-D array with a single row if you really want to specify the same RGB or RGBA value for all points.\n",
            "'c' argument looks like a single numeric RGB or RGBA sequence, which should be avoided as value-mapping will have precedence in case its length matches with 'x' & 'y'.  Please use a 2-D array with a single row if you really want to specify the same RGB or RGBA value for all points.\n",
            "'c' argument looks like a single numeric RGB or RGBA sequence, which should be avoided as value-mapping will have precedence in case its length matches with 'x' & 'y'.  Please use a 2-D array with a single row if you really want to specify the same RGB or RGBA value for all points.\n"
          ],
          "name": "stderr"
        },
        {
          "output_type": "display_data",
          "data": {
            "image/png": "[encoded data removed]",
            "text/plain": [
              "<Figure size 576x432 with 6 Axes>"
            ]
          },
          "metadata": {
            "tags": [],
            "needs_background": "light"
          }
        }
      ]
    },
    {
      "cell_type": "code",
      "metadata": {
        "id": "edAHY1g-Hg_Z",
        "colab_type": "code",
        "outputId": "39747aa9-8669-429e-f2bc-c0684e47e7bd",
        "colab": {
          "base_uri": "https://localhost:8080/",
          "height": 312
        }
      },
      "source": [
        "# Copy the vars_ dataframe into a new dataframe called df. \n",
        "# Add the target variable to the vars_ dataframe to make a correlation matrix among  features and target variable. Finally show a Heat Map with the values of the correlation matrix.\n",
        " \n",
        "df = vars_.copy()\n",
        "df['AdjClose'] = amz['AdjClose']\n",
        " \n",
        "colormap = plt.cm.inferno\n",
        "plt.figure(figsize=(10,5))\n",
        "corr = df.corr()\n",
        "sns.heatmap(corr[corr.index == 'AdjClose'], linewidths=0.1, vmax=1.0, square=True, cmap=colormap, linecolor='white', annot=True);\n",
        "plt.show()"
      ],
      "execution_count": 0,
      "outputs": [
        {
          "output_type": "display_data",
          "data": {
            "image/png": "[encoded data removed]",
            "text/plain": [
              "<Figure size 720x360 with 2 Axes>"
            ]
          },
          "metadata": {
            "tags": [],
            "needs_background": "light"
          }
        }
      ]
    },
    {
      "cell_type": "code",
      "metadata": {
        "id": "fektuNZGHqJO",
        "colab_type": "code",
        "outputId": "13945bf5-83aa-4454-e7f8-d15a2f244098",
        "colab": {
          "base_uri": "https://localhost:8080/",
          "height": 264
        }
      },
      "source": [
        "# Fit Random Forest Regressor and extract feature importance\n",
        "prices = pd.DataFrame(amz['AdjClose'])\n",
        "vars_model = prices.join(vars_)\n",
        "vars_model= vars_model.dropna()\n",
        " \n",
        "X = vars_model[['MACD','20sd','TR','ROC','CCI']].values\n",
        "y = vars_model['AdjClose'].values\n",
        " \n",
        "forest = RandomForestRegressor(n_estimators=1000)\n",
        "forest = forest.fit(X, y)\n",
        "importances = forest.feature_importances_\n",
        " \n",
        "values = list(zip(vars_model.columns[1:],importances))\n",
        "headers = ['feature','score']\n",
        "values_df = pd.DataFrame(values,columns = headers)\n",
        " \n",
        "# Plot the feature importance\n",
        "columns = ['MACD','20sd','TR','ROC','CCI']\n",
        "nd = np.arange(len(columns))\n",
        "width=0.5\n",
        "fig = plt.bar(nd, values_df['score'].values, color=sns.color_palette(\"deep\", 5))\n",
        "plt.legend(fig, columns, loc = 'upper right',bbox_to_anchor=(1.1, 1), title = \"Feature Importance\")\n",
        "plt.show()"
      ],
      "execution_count": 0,
      "outputs": [
        {
          "output_type": "display_data",
          "data": {
            "image/png": "[encoded data removed]",
            "text/plain": [
              "<Figure size 432x288 with 1 Axes>"
            ]
          },
          "metadata": {
            "tags": [],
            "needs_background": "light"
          }
        }
      ]
    }
  ]
}